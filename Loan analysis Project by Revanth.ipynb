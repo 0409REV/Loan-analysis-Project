{
 "cells": [
  {
   "cell_type": "code",
   "execution_count": null,
   "id": "2d86ffbc-e466-4c6c-b8a1-c83d6817c29c",
   "metadata": {},
   "outputs": [],
   "source": []
  },
  {
   "cell_type": "code",
   "execution_count": 28,
   "id": "ff6194b2-7b1f-4581-a18c-6fbefe7e62e6",
   "metadata": {},
   "outputs": [],
   "source": [
    "# Import libraries\n",
    "import pandas as pd\n",
    "import matplotlib.pyplot as plt\n",
    "import seaborn as sns"
   ]
  },
  {
   "cell_type": "code",
   "execution_count": 29,
   "id": "1b111e3d-497b-42c8-893c-681151eb9e44",
   "metadata": {},
   "outputs": [],
   "source": [
    "# Load datasets\n",
    "loan_data = pd.read_excel(\n",
    "    r'E:\\Python_Data projects\\Loan Analysis Project\\loandataset.xlsx'\n",
    ")"
   ]
  },
  {
   "cell_type": "code",
   "execution_count": 30,
   "id": "5614227e-acd7-4d3e-b942-4576575e871c",
   "metadata": {},
   "outputs": [],
   "source": [
    "# CSV file (note the sep=';' since it uses semicolons)\n",
    "customer_data = pd.read_csv(\n",
    "    r'E:\\Python_Data projects\\Loan Analysis Project\\customer_data.csv',\n",
    "    sep=';'\n",
    ")"
   ]
  },
  {
   "cell_type": "code",
   "execution_count": 31,
   "id": "d43a1d85-7614-47e8-a93f-86cf88fb516b",
   "metadata": {},
   "outputs": [
    {
     "name": "stdout",
     "output_type": "stream",
     "text": [
      "Loan Data Sample:\n"
     ]
    },
    {
     "data": {
      "text/html": [
       "<div>\n",
       "<style scoped>\n",
       "    .dataframe tbody tr th:only-of-type {\n",
       "        vertical-align: middle;\n",
       "    }\n",
       "\n",
       "    .dataframe tbody tr th {\n",
       "        vertical-align: top;\n",
       "    }\n",
       "\n",
       "    .dataframe thead th {\n",
       "        text-align: right;\n",
       "    }\n",
       "</style>\n",
       "<table border=\"1\" class=\"dataframe\">\n",
       "  <thead>\n",
       "    <tr style=\"text-align: right;\">\n",
       "      <th></th>\n",
       "      <th>loan id</th>\n",
       "      <th>customerid</th>\n",
       "      <th>credit.policy</th>\n",
       "      <th>purpose</th>\n",
       "      <th>int.rate</th>\n",
       "      <th>installment</th>\n",
       "      <th>log.annual.inc</th>\n",
       "      <th>dti</th>\n",
       "      <th>fico</th>\n",
       "      <th>days.with.cr.line</th>\n",
       "      <th>revol.bal</th>\n",
       "      <th>revol.util</th>\n",
       "      <th>inq.last.6mths</th>\n",
       "      <th>delinq.2yrs</th>\n",
       "      <th>pub.rec</th>\n",
       "      <th>not.fully.paid</th>\n",
       "    </tr>\n",
       "  </thead>\n",
       "  <tbody>\n",
       "    <tr>\n",
       "      <th>0</th>\n",
       "      <td>193</td>\n",
       "      <td>C193</td>\n",
       "      <td>1</td>\n",
       "      <td>debt_consolidation</td>\n",
       "      <td>0.0743</td>\n",
       "      <td>178.68</td>\n",
       "      <td>11.461632</td>\n",
       "      <td>1.20</td>\n",
       "      <td>812</td>\n",
       "      <td>16259.04167</td>\n",
       "      <td>50</td>\n",
       "      <td>0.3</td>\n",
       "      <td>0</td>\n",
       "      <td>0</td>\n",
       "      <td>0</td>\n",
       "      <td>0</td>\n",
       "    </tr>\n",
       "    <tr>\n",
       "      <th>1</th>\n",
       "      <td>114</td>\n",
       "      <td>C114</td>\n",
       "      <td>1</td>\n",
       "      <td>debt_consolidation</td>\n",
       "      <td>0.0712</td>\n",
       "      <td>64.96</td>\n",
       "      <td>11.608236</td>\n",
       "      <td>0.22</td>\n",
       "      <td>812</td>\n",
       "      <td>16213.00000</td>\n",
       "      <td>50</td>\n",
       "      <td>0.3</td>\n",
       "      <td>0</td>\n",
       "      <td>0</td>\n",
       "      <td>0</td>\n",
       "      <td>0</td>\n",
       "    </tr>\n",
       "    <tr>\n",
       "      <th>2</th>\n",
       "      <td>920</td>\n",
       "      <td>C920</td>\n",
       "      <td>1</td>\n",
       "      <td>all_other</td>\n",
       "      <td>0.0800</td>\n",
       "      <td>313.37</td>\n",
       "      <td>10.274672</td>\n",
       "      <td>2.24</td>\n",
       "      <td>792</td>\n",
       "      <td>14100.00000</td>\n",
       "      <td>2751</td>\n",
       "      <td>16.7</td>\n",
       "      <td>0</td>\n",
       "      <td>0</td>\n",
       "      <td>0</td>\n",
       "      <td>0</td>\n",
       "    </tr>\n",
       "    <tr>\n",
       "      <th>3</th>\n",
       "      <td>56</td>\n",
       "      <td>C56</td>\n",
       "      <td>1</td>\n",
       "      <td>small_business</td>\n",
       "      <td>0.1059</td>\n",
       "      <td>398.69</td>\n",
       "      <td>11.002100</td>\n",
       "      <td>17.12</td>\n",
       "      <td>747</td>\n",
       "      <td>14008.95833</td>\n",
       "      <td>17214</td>\n",
       "      <td>8.1</td>\n",
       "      <td>2</td>\n",
       "      <td>1</td>\n",
       "      <td>0</td>\n",
       "      <td>0</td>\n",
       "    </tr>\n",
       "    <tr>\n",
       "      <th>4</th>\n",
       "      <td>93</td>\n",
       "      <td>C93</td>\n",
       "      <td>1</td>\n",
       "      <td>debt_consolidation</td>\n",
       "      <td>0.0870</td>\n",
       "      <td>383.87</td>\n",
       "      <td>11.918391</td>\n",
       "      <td>4.80</td>\n",
       "      <td>767</td>\n",
       "      <td>13349.95833</td>\n",
       "      <td>61921</td>\n",
       "      <td>39.1</td>\n",
       "      <td>0</td>\n",
       "      <td>0</td>\n",
       "      <td>0</td>\n",
       "      <td>0</td>\n",
       "    </tr>\n",
       "  </tbody>\n",
       "</table>\n",
       "</div>"
      ],
      "text/plain": [
       "   loan id customerid  credit.policy             purpose  int.rate  \\\n",
       "0      193       C193              1  debt_consolidation    0.0743   \n",
       "1      114       C114              1  debt_consolidation    0.0712   \n",
       "2      920       C920              1           all_other    0.0800   \n",
       "3       56        C56              1      small_business    0.1059   \n",
       "4       93        C93              1  debt_consolidation    0.0870   \n",
       "\n",
       "   installment  log.annual.inc    dti  fico  days.with.cr.line  revol.bal  \\\n",
       "0       178.68       11.461632   1.20   812        16259.04167         50   \n",
       "1        64.96       11.608236   0.22   812        16213.00000         50   \n",
       "2       313.37       10.274672   2.24   792        14100.00000       2751   \n",
       "3       398.69       11.002100  17.12   747        14008.95833      17214   \n",
       "4       383.87       11.918391   4.80   767        13349.95833      61921   \n",
       "\n",
       "   revol.util  inq.last.6mths  delinq.2yrs  pub.rec  not.fully.paid  \n",
       "0         0.3               0            0        0               0  \n",
       "1         0.3               0            0        0               0  \n",
       "2        16.7               0            0        0               0  \n",
       "3         8.1               2            1        0               0  \n",
       "4        39.1               0            0        0               0  "
      ]
     },
     "metadata": {},
     "output_type": "display_data"
    }
   ],
   "source": [
    "# Display first few rows of each dataset\n",
    "print(\"Loan Data Sample:\")\n",
    "display(loan_data.head())"
   ]
  },
  {
   "cell_type": "code",
   "execution_count": 32,
   "id": "a956aeda-3440-45a2-933e-7ec68be606b5",
   "metadata": {},
   "outputs": [
    {
     "name": "stdout",
     "output_type": "stream",
     "text": [
      "Customer Data Sample:\n"
     ]
    },
    {
     "data": {
      "text/html": [
       "<div>\n",
       "<style scoped>\n",
       "    .dataframe tbody tr th:only-of-type {\n",
       "        vertical-align: middle;\n",
       "    }\n",
       "\n",
       "    .dataframe tbody tr th {\n",
       "        vertical-align: top;\n",
       "    }\n",
       "\n",
       "    .dataframe thead th {\n",
       "        text-align: right;\n",
       "    }\n",
       "</style>\n",
       "<table border=\"1\" class=\"dataframe\">\n",
       "  <thead>\n",
       "    <tr style=\"text-align: right;\">\n",
       "      <th></th>\n",
       "      <th>id</th>\n",
       "      <th>first_name</th>\n",
       "      <th>last_name</th>\n",
       "      <th>email</th>\n",
       "      <th>gender</th>\n",
       "      <th>city</th>\n",
       "      <th>country</th>\n",
       "    </tr>\n",
       "  </thead>\n",
       "  <tbody>\n",
       "    <tr>\n",
       "      <th>0</th>\n",
       "      <td>C1</td>\n",
       "      <td>Rafaelia</td>\n",
       "      <td>Constable</td>\n",
       "      <td>rconstable0@google.co.jp</td>\n",
       "      <td>Female</td>\n",
       "      <td>Kazanskoye</td>\n",
       "      <td>Russia</td>\n",
       "    </tr>\n",
       "    <tr>\n",
       "      <th>1</th>\n",
       "      <td>C2</td>\n",
       "      <td>Rayner</td>\n",
       "      <td>Langhor</td>\n",
       "      <td>rlanghor1@arstechnica.com</td>\n",
       "      <td>Male</td>\n",
       "      <td>Yauca</td>\n",
       "      <td>Peru</td>\n",
       "    </tr>\n",
       "    <tr>\n",
       "      <th>2</th>\n",
       "      <td>C3</td>\n",
       "      <td>Felike</td>\n",
       "      <td>Duchesne</td>\n",
       "      <td>fduchesne2@blog.com</td>\n",
       "      <td>Male</td>\n",
       "      <td>Monte Santo de Minas</td>\n",
       "      <td>Brazil</td>\n",
       "    </tr>\n",
       "    <tr>\n",
       "      <th>3</th>\n",
       "      <td>C4</td>\n",
       "      <td>Kelli</td>\n",
       "      <td>Winchcomb</td>\n",
       "      <td>kwinchcomb3@tuttocitta.it</td>\n",
       "      <td>Female</td>\n",
       "      <td>Červené Pečky</td>\n",
       "      <td>Czech Republic</td>\n",
       "    </tr>\n",
       "    <tr>\n",
       "      <th>4</th>\n",
       "      <td>C5</td>\n",
       "      <td>Timi</td>\n",
       "      <td>Butterley</td>\n",
       "      <td>tbutterley4@jalbum.net</td>\n",
       "      <td>Female</td>\n",
       "      <td>Lorino</td>\n",
       "      <td>Russia</td>\n",
       "    </tr>\n",
       "  </tbody>\n",
       "</table>\n",
       "</div>"
      ],
      "text/plain": [
       "   id first_name  last_name                      email  gender  \\\n",
       "0  C1   Rafaelia  Constable   rconstable0@google.co.jp  Female   \n",
       "1  C2     Rayner    Langhor  rlanghor1@arstechnica.com    Male   \n",
       "2  C3     Felike   Duchesne        fduchesne2@blog.com    Male   \n",
       "3  C4      Kelli  Winchcomb  kwinchcomb3@tuttocitta.it  Female   \n",
       "4  C5       Timi  Butterley     tbutterley4@jalbum.net  Female   \n",
       "\n",
       "                   city         country  \n",
       "0            Kazanskoye          Russia  \n",
       "1                 Yauca            Peru  \n",
       "2  Monte Santo de Minas          Brazil  \n",
       "3         Červené Pečky  Czech Republic  \n",
       "4                Lorino          Russia  "
      ]
     },
     "metadata": {},
     "output_type": "display_data"
    }
   ],
   "source": [
    "print(\"Customer Data Sample:\")\n",
    "display(customer_data.head())"
   ]
  },
  {
   "cell_type": "code",
   "execution_count": 33,
   "id": "b2fa0b47-b542-485b-abd7-d63cf29480c1",
   "metadata": {},
   "outputs": [
    {
     "data": {
      "text/html": [
       "<div>\n",
       "<style scoped>\n",
       "    .dataframe tbody tr th:only-of-type {\n",
       "        vertical-align: middle;\n",
       "    }\n",
       "\n",
       "    .dataframe tbody tr th {\n",
       "        vertical-align: top;\n",
       "    }\n",
       "\n",
       "    .dataframe thead th {\n",
       "        text-align: right;\n",
       "    }\n",
       "</style>\n",
       "<table border=\"1\" class=\"dataframe\">\n",
       "  <thead>\n",
       "    <tr style=\"text-align: right;\">\n",
       "      <th></th>\n",
       "      <th>loan id</th>\n",
       "      <th>customerid</th>\n",
       "      <th>credit.policy</th>\n",
       "      <th>purpose</th>\n",
       "      <th>int.rate</th>\n",
       "      <th>installment</th>\n",
       "      <th>log.annual.inc</th>\n",
       "      <th>dti</th>\n",
       "      <th>fico</th>\n",
       "      <th>days.with.cr.line</th>\n",
       "      <th>...</th>\n",
       "      <th>delinq.2yrs</th>\n",
       "      <th>pub.rec</th>\n",
       "      <th>not.fully.paid</th>\n",
       "      <th>id</th>\n",
       "      <th>first_name</th>\n",
       "      <th>last_name</th>\n",
       "      <th>email</th>\n",
       "      <th>gender</th>\n",
       "      <th>city</th>\n",
       "      <th>country</th>\n",
       "    </tr>\n",
       "  </thead>\n",
       "  <tbody>\n",
       "    <tr>\n",
       "      <th>0</th>\n",
       "      <td>193</td>\n",
       "      <td>C193</td>\n",
       "      <td>1</td>\n",
       "      <td>debt_consolidation</td>\n",
       "      <td>0.0743</td>\n",
       "      <td>178.68</td>\n",
       "      <td>11.461632</td>\n",
       "      <td>1.20</td>\n",
       "      <td>812</td>\n",
       "      <td>16259.04167</td>\n",
       "      <td>...</td>\n",
       "      <td>0</td>\n",
       "      <td>0</td>\n",
       "      <td>0</td>\n",
       "      <td>C193</td>\n",
       "      <td>Yuma</td>\n",
       "      <td>Malecky</td>\n",
       "      <td>ymalecky5c@constantcontact.com</td>\n",
       "      <td>Male</td>\n",
       "      <td>Lavradio</td>\n",
       "      <td>Portugal</td>\n",
       "    </tr>\n",
       "    <tr>\n",
       "      <th>1</th>\n",
       "      <td>114</td>\n",
       "      <td>C114</td>\n",
       "      <td>1</td>\n",
       "      <td>debt_consolidation</td>\n",
       "      <td>0.0712</td>\n",
       "      <td>64.96</td>\n",
       "      <td>11.608236</td>\n",
       "      <td>0.22</td>\n",
       "      <td>812</td>\n",
       "      <td>16213.00000</td>\n",
       "      <td>...</td>\n",
       "      <td>0</td>\n",
       "      <td>0</td>\n",
       "      <td>0</td>\n",
       "      <td>C114</td>\n",
       "      <td>Steven</td>\n",
       "      <td>Thalmann</td>\n",
       "      <td>sthalmann35@bloglines.com</td>\n",
       "      <td>Male</td>\n",
       "      <td>Rio Meão</td>\n",
       "      <td>Portugal</td>\n",
       "    </tr>\n",
       "    <tr>\n",
       "      <th>2</th>\n",
       "      <td>920</td>\n",
       "      <td>C920</td>\n",
       "      <td>1</td>\n",
       "      <td>all_other</td>\n",
       "      <td>0.0800</td>\n",
       "      <td>313.37</td>\n",
       "      <td>10.274672</td>\n",
       "      <td>2.24</td>\n",
       "      <td>792</td>\n",
       "      <td>14100.00000</td>\n",
       "      <td>...</td>\n",
       "      <td>0</td>\n",
       "      <td>0</td>\n",
       "      <td>0</td>\n",
       "      <td>C920</td>\n",
       "      <td>Yetta</td>\n",
       "      <td>Cupitt</td>\n",
       "      <td>ycupittpj@etsy.com</td>\n",
       "      <td>Female</td>\n",
       "      <td>Muruni</td>\n",
       "      <td>Indonesia</td>\n",
       "    </tr>\n",
       "    <tr>\n",
       "      <th>3</th>\n",
       "      <td>56</td>\n",
       "      <td>C56</td>\n",
       "      <td>1</td>\n",
       "      <td>small_business</td>\n",
       "      <td>0.1059</td>\n",
       "      <td>398.69</td>\n",
       "      <td>11.002100</td>\n",
       "      <td>17.12</td>\n",
       "      <td>747</td>\n",
       "      <td>14008.95833</td>\n",
       "      <td>...</td>\n",
       "      <td>1</td>\n",
       "      <td>0</td>\n",
       "      <td>0</td>\n",
       "      <td>C56</td>\n",
       "      <td>Mycah</td>\n",
       "      <td>Drohun</td>\n",
       "      <td>mdrohun1j@paypal.com</td>\n",
       "      <td>Male</td>\n",
       "      <td>Tendō</td>\n",
       "      <td>Japan</td>\n",
       "    </tr>\n",
       "    <tr>\n",
       "      <th>4</th>\n",
       "      <td>93</td>\n",
       "      <td>C93</td>\n",
       "      <td>1</td>\n",
       "      <td>debt_consolidation</td>\n",
       "      <td>0.0870</td>\n",
       "      <td>383.87</td>\n",
       "      <td>11.918391</td>\n",
       "      <td>4.80</td>\n",
       "      <td>767</td>\n",
       "      <td>13349.95833</td>\n",
       "      <td>...</td>\n",
       "      <td>0</td>\n",
       "      <td>0</td>\n",
       "      <td>0</td>\n",
       "      <td>C93</td>\n",
       "      <td>Anita</td>\n",
       "      <td>Harcus</td>\n",
       "      <td>aharcus2k@jiathis.com</td>\n",
       "      <td>Female</td>\n",
       "      <td>NaN</td>\n",
       "      <td>NaN</td>\n",
       "    </tr>\n",
       "  </tbody>\n",
       "</table>\n",
       "<p>5 rows × 23 columns</p>\n",
       "</div>"
      ],
      "text/plain": [
       "   loan id customerid  credit.policy             purpose  int.rate  \\\n",
       "0      193       C193              1  debt_consolidation    0.0743   \n",
       "1      114       C114              1  debt_consolidation    0.0712   \n",
       "2      920       C920              1           all_other    0.0800   \n",
       "3       56        C56              1      small_business    0.1059   \n",
       "4       93        C93              1  debt_consolidation    0.0870   \n",
       "\n",
       "   installment  log.annual.inc    dti  fico  days.with.cr.line  ...  \\\n",
       "0       178.68       11.461632   1.20   812        16259.04167  ...   \n",
       "1        64.96       11.608236   0.22   812        16213.00000  ...   \n",
       "2       313.37       10.274672   2.24   792        14100.00000  ...   \n",
       "3       398.69       11.002100  17.12   747        14008.95833  ...   \n",
       "4       383.87       11.918391   4.80   767        13349.95833  ...   \n",
       "\n",
       "   delinq.2yrs  pub.rec  not.fully.paid    id  first_name  last_name  \\\n",
       "0            0        0               0  C193        Yuma    Malecky   \n",
       "1            0        0               0  C114      Steven   Thalmann   \n",
       "2            0        0               0  C920       Yetta     Cupitt   \n",
       "3            1        0               0   C56       Mycah     Drohun   \n",
       "4            0        0               0   C93       Anita     Harcus   \n",
       "\n",
       "                            email  gender      city    country  \n",
       "0  ymalecky5c@constantcontact.com    Male  Lavradio   Portugal  \n",
       "1       sthalmann35@bloglines.com    Male  Rio Meão   Portugal  \n",
       "2              ycupittpj@etsy.com  Female    Muruni  Indonesia  \n",
       "3            mdrohun1j@paypal.com    Male     Tendō      Japan  \n",
       "4           aharcus2k@jiathis.com  Female       NaN        NaN  \n",
       "\n",
       "[5 rows x 23 columns]"
      ]
     },
     "execution_count": 33,
     "metadata": {},
     "output_type": "execute_result"
    }
   ],
   "source": [
    "# Merge datasets\n",
    "complete_data = pd.merge(\n",
    "    loan_data, \n",
    "    customer_data, \n",
    "    left_on='customerid', \n",
    "    right_on='id'\n",
    ")\n",
    "complete_data.head()"
   ]
  },
  {
   "cell_type": "code",
   "execution_count": 34,
   "id": "d74da48b-d7bb-4b65-bd16-e5af32f8ba8a",
   "metadata": {},
   "outputs": [
    {
     "data": {
      "text/plain": [
       "loan id               0\n",
       "customerid            0\n",
       "credit.policy         0\n",
       "purpose               0\n",
       "int.rate              0\n",
       "installment           0\n",
       "log.annual.inc        0\n",
       "dti                   0\n",
       "fico                  0\n",
       "days.with.cr.line     0\n",
       "revol.bal             0\n",
       "revol.util            0\n",
       "inq.last.6mths        0\n",
       "delinq.2yrs           0\n",
       "pub.rec               0\n",
       "not.fully.paid        0\n",
       "id                    0\n",
       "first_name            0\n",
       "last_name             0\n",
       "email                 0\n",
       "gender                0\n",
       "city                 11\n",
       "country              11\n",
       "dtype: int64"
      ]
     },
     "execution_count": 34,
     "metadata": {},
     "output_type": "execute_result"
    }
   ],
   "source": [
    "# Check for missing values\n",
    "complete_data.isnull().sum()"
   ]
  },
  {
   "cell_type": "code",
   "execution_count": 35,
   "id": "0449db39-7d69-4a71-ab89-b3a56f1631c0",
   "metadata": {},
   "outputs": [
    {
     "data": {
      "text/plain": [
       "loan id              0\n",
       "customerid           0\n",
       "credit.policy        0\n",
       "purpose              0\n",
       "int.rate             0\n",
       "installment          0\n",
       "log.annual.inc       0\n",
       "dti                  0\n",
       "fico                 0\n",
       "days.with.cr.line    0\n",
       "revol.bal            0\n",
       "revol.util           0\n",
       "inq.last.6mths       0\n",
       "delinq.2yrs          0\n",
       "pub.rec              0\n",
       "not.fully.paid       0\n",
       "id                   0\n",
       "first_name           0\n",
       "last_name            0\n",
       "email                0\n",
       "gender               0\n",
       "city                 0\n",
       "country              0\n",
       "dtype: int64"
      ]
     },
     "execution_count": 35,
     "metadata": {},
     "output_type": "execute_result"
    }
   ],
   "source": [
    "#  Drop missing values\n",
    "complete_data = complete_data.dropna()\n",
    "complete_data.isnull().sum()"
   ]
  },
  {
   "cell_type": "code",
   "execution_count": 36,
   "id": "911167ad-2dae-4026-b706-32f54ceaf32a",
   "metadata": {},
   "outputs": [
    {
     "data": {
      "text/plain": [
       "0"
      ]
     },
     "execution_count": 36,
     "metadata": {},
     "output_type": "execute_result"
    }
   ],
   "source": [
    "# Check for duplicate rows\n",
    "complete_data.duplicated().sum()"
   ]
  },
  {
   "cell_type": "code",
   "execution_count": 37,
   "id": "cbb24576-b801-42cd-9be8-bd093c502919",
   "metadata": {},
   "outputs": [
    {
     "data": {
      "text/plain": [
       "(988, 23)"
      ]
     },
     "execution_count": 37,
     "metadata": {},
     "output_type": "execute_result"
    }
   ],
   "source": [
    "# Drop duplicate rows\n",
    "complete_data = complete_data.drop_duplicates()\n",
    "complete_data.shape"
   ]
  },
  {
   "cell_type": "code",
   "execution_count": 38,
   "id": "2c82c82e-8535-46da-bff0-ade86d678821",
   "metadata": {},
   "outputs": [
    {
     "name": "stdout",
     "output_type": "stream",
     "text": [
      "Sum: 35\n"
     ]
    }
   ],
   "source": [
    "# Ex.: simple function to add numbers\n",
    "def add_numbers(number1, number2):\n",
    "    return number1 + number2\n",
    "\n",
    "result = add_numbers(10, 25)\n",
    "print(\"Sum:\", result)"
   ]
  },
  {
   "cell_type": "code",
   "execution_count": 39,
   "id": "03843c58-0c2f-47d3-8731-082e96fa8f7e",
   "metadata": {},
   "outputs": [
    {
     "data": {
      "text/html": [
       "<div>\n",
       "<style scoped>\n",
       "    .dataframe tbody tr th:only-of-type {\n",
       "        vertical-align: middle;\n",
       "    }\n",
       "\n",
       "    .dataframe tbody tr th {\n",
       "        vertical-align: top;\n",
       "    }\n",
       "\n",
       "    .dataframe thead th {\n",
       "        text-align: right;\n",
       "    }\n",
       "</style>\n",
       "<table border=\"1\" class=\"dataframe\">\n",
       "  <thead>\n",
       "    <tr style=\"text-align: right;\">\n",
       "      <th></th>\n",
       "      <th>purpose</th>\n",
       "      <th>purpose_category</th>\n",
       "    </tr>\n",
       "  </thead>\n",
       "  <tbody>\n",
       "    <tr>\n",
       "      <th>0</th>\n",
       "      <td>debt_consolidation</td>\n",
       "      <td>Financial</td>\n",
       "    </tr>\n",
       "    <tr>\n",
       "      <th>1</th>\n",
       "      <td>debt_consolidation</td>\n",
       "      <td>Financial</td>\n",
       "    </tr>\n",
       "    <tr>\n",
       "      <th>2</th>\n",
       "      <td>all_other</td>\n",
       "      <td>Other</td>\n",
       "    </tr>\n",
       "    <tr>\n",
       "      <th>3</th>\n",
       "      <td>small_business</td>\n",
       "      <td>Educational/Business</td>\n",
       "    </tr>\n",
       "    <tr>\n",
       "      <th>5</th>\n",
       "      <td>credit_card</td>\n",
       "      <td>Financial</td>\n",
       "    </tr>\n",
       "  </tbody>\n",
       "</table>\n",
       "</div>"
      ],
      "text/plain": [
       "              purpose      purpose_category\n",
       "0  debt_consolidation             Financial\n",
       "1  debt_consolidation             Financial\n",
       "2           all_other                 Other\n",
       "3      small_business  Educational/Business\n",
       "5         credit_card             Financial"
      ]
     },
     "execution_count": 39,
     "metadata": {},
     "output_type": "execute_result"
    }
   ],
   "source": [
    "# Function to categorize loan purposes\n",
    "def categorize_purpose(purpose):\n",
    "    if purpose in ['credit_card', 'debt_consolidation']:\n",
    "        return 'Financial'\n",
    "    elif purpose in ['educational', 'small_business']:\n",
    "        return 'Educational/Business'\n",
    "    else:\n",
    "        return 'Other'\n",
    "\n",
    "# Apply the function\n",
    "complete_data['purpose_category'] = complete_data['purpose'].apply(categorize_purpose)\n",
    "complete_data[['purpose', 'purpose_category']].head()\n"
   ]
  },
  {
   "cell_type": "code",
   "execution_count": 40,
   "id": "6964f10a-475b-4080-8b43-ac45ad38eef9",
   "metadata": {},
   "outputs": [
    {
     "name": "stdout",
     "output_type": "stream",
     "text": [
      "-ve\n"
     ]
    }
   ],
   "source": [
    "#  Function with conditional statements\n",
    "def check_number(number):\n",
    "    if number > 0:\n",
    "        return \"+ve\"\n",
    "    elif number < 0:\n",
    "        return \"-ve\"\n",
    "    else:\n",
    "        return \"Zero\"\n",
    "\n",
    "print(check_number(-90))\n"
   ]
  },
  {
   "cell_type": "code",
   "execution_count": 41,
   "id": "9b2393ec-29a1-4085-88cf-ba434387a25a",
   "metadata": {},
   "outputs": [
    {
     "data": {
      "text/html": [
       "<div>\n",
       "<style scoped>\n",
       "    .dataframe tbody tr th:only-of-type {\n",
       "        vertical-align: middle;\n",
       "    }\n",
       "\n",
       "    .dataframe tbody tr th {\n",
       "        vertical-align: top;\n",
       "    }\n",
       "\n",
       "    .dataframe thead th {\n",
       "        text-align: right;\n",
       "    }\n",
       "</style>\n",
       "<table border=\"1\" class=\"dataframe\">\n",
       "  <thead>\n",
       "    <tr style=\"text-align: right;\">\n",
       "      <th></th>\n",
       "      <th>dti</th>\n",
       "      <th>delinq.2yrs</th>\n",
       "      <th>revol.util</th>\n",
       "      <th>Risk</th>\n",
       "    </tr>\n",
       "  </thead>\n",
       "  <tbody>\n",
       "    <tr>\n",
       "      <th>0</th>\n",
       "      <td>1.20</td>\n",
       "      <td>0</td>\n",
       "      <td>0.3</td>\n",
       "      <td>Low Risk</td>\n",
       "    </tr>\n",
       "    <tr>\n",
       "      <th>1</th>\n",
       "      <td>0.22</td>\n",
       "      <td>0</td>\n",
       "      <td>0.3</td>\n",
       "      <td>Low Risk</td>\n",
       "    </tr>\n",
       "    <tr>\n",
       "      <th>2</th>\n",
       "      <td>2.24</td>\n",
       "      <td>0</td>\n",
       "      <td>16.7</td>\n",
       "      <td>Low Risk</td>\n",
       "    </tr>\n",
       "    <tr>\n",
       "      <th>3</th>\n",
       "      <td>17.12</td>\n",
       "      <td>1</td>\n",
       "      <td>8.1</td>\n",
       "      <td>Low Risk</td>\n",
       "    </tr>\n",
       "    <tr>\n",
       "      <th>5</th>\n",
       "      <td>7.08</td>\n",
       "      <td>0</td>\n",
       "      <td>35.9</td>\n",
       "      <td>Low Risk</td>\n",
       "    </tr>\n",
       "  </tbody>\n",
       "</table>\n",
       "</div>"
      ],
      "text/plain": [
       "     dti  delinq.2yrs  revol.util      Risk\n",
       "0   1.20            0         0.3  Low Risk\n",
       "1   0.22            0         0.3  Low Risk\n",
       "2   2.24            0        16.7  Low Risk\n",
       "3  17.12            1         8.1  Low Risk\n",
       "5   7.08            0        35.9  Low Risk"
      ]
     },
     "execution_count": 41,
     "metadata": {},
     "output_type": "execute_result"
    }
   ],
   "source": [
    "# Assess risk based on multiple conditions\n",
    "def assess_risk(row):\n",
    "    if row['dti'] > 20 and row['delinq.2yrs'] > 2 and row['revol.util'] > 60:\n",
    "        return 'High Risk'\n",
    "    else:\n",
    "        return 'Low Risk'\n",
    "\n",
    "complete_data['Risk'] = complete_data.apply(assess_risk, axis=1)\n",
    "complete_data[['dti','delinq.2yrs','revol.util','Risk']].head()\n"
   ]
  },
  {
   "cell_type": "code",
   "execution_count": 42,
   "id": "d6134fd4-efcf-48bf-830e-ceff933e6ab6",
   "metadata": {},
   "outputs": [
    {
     "data": {
      "text/html": [
       "<div>\n",
       "<style scoped>\n",
       "    .dataframe tbody tr th:only-of-type {\n",
       "        vertical-align: middle;\n",
       "    }\n",
       "\n",
       "    .dataframe tbody tr th {\n",
       "        vertical-align: top;\n",
       "    }\n",
       "\n",
       "    .dataframe thead th {\n",
       "        text-align: right;\n",
       "    }\n",
       "</style>\n",
       "<table border=\"1\" class=\"dataframe\">\n",
       "  <thead>\n",
       "    <tr style=\"text-align: right;\">\n",
       "      <th></th>\n",
       "      <th>fico</th>\n",
       "      <th>Fico_category</th>\n",
       "    </tr>\n",
       "  </thead>\n",
       "  <tbody>\n",
       "    <tr>\n",
       "      <th>0</th>\n",
       "      <td>812</td>\n",
       "      <td>Excellent</td>\n",
       "    </tr>\n",
       "    <tr>\n",
       "      <th>1</th>\n",
       "      <td>812</td>\n",
       "      <td>Excellent</td>\n",
       "    </tr>\n",
       "    <tr>\n",
       "      <th>2</th>\n",
       "      <td>792</td>\n",
       "      <td>Very Good</td>\n",
       "    </tr>\n",
       "    <tr>\n",
       "      <th>3</th>\n",
       "      <td>747</td>\n",
       "      <td>Very Good</td>\n",
       "    </tr>\n",
       "    <tr>\n",
       "      <th>5</th>\n",
       "      <td>767</td>\n",
       "      <td>Very Good</td>\n",
       "    </tr>\n",
       "  </tbody>\n",
       "</table>\n",
       "</div>"
      ],
      "text/plain": [
       "   fico Fico_category\n",
       "0   812     Excellent\n",
       "1   812     Excellent\n",
       "2   792     Very Good\n",
       "3   747     Very Good\n",
       "5   767     Very Good"
      ]
     },
     "execution_count": 42,
     "metadata": {},
     "output_type": "execute_result"
    }
   ],
   "source": [
    "# Categorize FICO scores\n",
    "def categorize_fico(fico_score):\n",
    "    if 800 <= fico_score <= 850:\n",
    "        return 'Excellent'\n",
    "    elif 740 <= fico_score < 800:\n",
    "        return 'Very Good'\n",
    "    elif 670 <= fico_score < 740:\n",
    "        return 'Good'\n",
    "    elif 580 <= fico_score < 670:\n",
    "        return 'Fair'\n",
    "    else:\n",
    "        return 'Poor'\n",
    "\n",
    "complete_data['Fico_category'] = complete_data['fico'].apply(categorize_fico)\n",
    "complete_data[['fico','Fico_category']].head()\n"
   ]
  },
  {
   "cell_type": "code",
   "execution_count": 43,
   "id": "2f4d122f-cc5c-4d2d-914f-2e14100ece2c",
   "metadata": {},
   "outputs": [
    {
     "data": {
      "text/html": [
       "<div>\n",
       "<style scoped>\n",
       "    .dataframe tbody tr th:only-of-type {\n",
       "        vertical-align: middle;\n",
       "    }\n",
       "\n",
       "    .dataframe tbody tr th {\n",
       "        vertical-align: top;\n",
       "    }\n",
       "\n",
       "    .dataframe thead th {\n",
       "        text-align: right;\n",
       "    }\n",
       "</style>\n",
       "<table border=\"1\" class=\"dataframe\">\n",
       "  <thead>\n",
       "    <tr style=\"text-align: right;\">\n",
       "      <th></th>\n",
       "      <th>inq.last.6mths</th>\n",
       "      <th>pub.rec</th>\n",
       "      <th>High_Inquiries_and_Public_Records</th>\n",
       "    </tr>\n",
       "  </thead>\n",
       "  <tbody>\n",
       "    <tr>\n",
       "      <th>0</th>\n",
       "      <td>0</td>\n",
       "      <td>0</td>\n",
       "      <td>False</td>\n",
       "    </tr>\n",
       "    <tr>\n",
       "      <th>1</th>\n",
       "      <td>0</td>\n",
       "      <td>0</td>\n",
       "      <td>False</td>\n",
       "    </tr>\n",
       "    <tr>\n",
       "      <th>2</th>\n",
       "      <td>0</td>\n",
       "      <td>0</td>\n",
       "      <td>False</td>\n",
       "    </tr>\n",
       "    <tr>\n",
       "      <th>3</th>\n",
       "      <td>2</td>\n",
       "      <td>0</td>\n",
       "      <td>False</td>\n",
       "    </tr>\n",
       "    <tr>\n",
       "      <th>5</th>\n",
       "      <td>0</td>\n",
       "      <td>0</td>\n",
       "      <td>False</td>\n",
       "    </tr>\n",
       "  </tbody>\n",
       "</table>\n",
       "</div>"
      ],
      "text/plain": [
       "   inq.last.6mths  pub.rec  High_Inquiries_and_Public_Records\n",
       "0               0        0                              False\n",
       "1               0        0                              False\n",
       "2               0        0                              False\n",
       "3               2        0                              False\n",
       "5               0        0                              False"
      ]
     },
     "execution_count": 43,
     "metadata": {},
     "output_type": "execute_result"
    }
   ],
   "source": [
    "#  Identify customers with high inquiries & public records\n",
    "def identify_high_inq_derog(row):\n",
    "    avg_inq = complete_data['inq.last.6mths'].mean()\n",
    "    avg_derog = complete_data['pub.rec'].mean()\n",
    "    \n",
    "    if row['inq.last.6mths'] > avg_inq and row['pub.rec'] > avg_derog:\n",
    "        return True\n",
    "    else:\n",
    "        return False\n",
    "\n",
    "complete_data['High_Inquiries_and_Public_Records'] = complete_data.apply(identify_high_inq_derog, axis=1)\n",
    "complete_data[['inq.last.6mths','pub.rec','High_Inquiries_and_Public_Records']].head()\n"
   ]
  },
  {
   "cell_type": "code",
   "execution_count": 44,
   "id": "88098cfc-9ad1-4a6e-86ad-a68bb3e16552",
   "metadata": {},
   "outputs": [
    {
     "name": "stdout",
     "output_type": "stream",
     "text": [
      "Mean FICO Score: 713.3056680161943\n",
      "Median FICO Score: 707.0\n"
     ]
    }
   ],
   "source": [
    "#  Create a class for summary statistics\n",
    "class DataAnalysis:\n",
    "    def __init__(self, df, column_name):\n",
    "        self.df = df\n",
    "        self.column_name = column_name\n",
    "        \n",
    "    def calculate_mean(self):\n",
    "        return self.df[self.column_name].mean()\n",
    "    \n",
    "    def calculate_median(self):\n",
    "        return self.df[self.column_name].median()\n",
    "\n",
    "analysis = DataAnalysis(complete_data, 'fico')\n",
    "print(\"Mean FICO Score:\", analysis.calculate_mean())\n",
    "print(\"Median FICO Score:\", analysis.calculate_median())\n"
   ]
  },
  {
   "cell_type": "code",
   "execution_count": 45,
   "id": "0927d150-4f9e-4c0f-8fb4-067d332195e5",
   "metadata": {},
   "outputs": [],
   "source": [
    "# Data Visualizations\n",
    "sns.set_style('darkgrid')"
   ]
  },
  {
   "cell_type": "code",
   "execution_count": 46,
   "id": "45708be2-66f2-431a-89b9-57cad105ea6e",
   "metadata": {},
   "outputs": [
    {
     "name": "stderr",
     "output_type": "stream",
     "text": [
      "C:\\Users\\Asus\\AppData\\Local\\Temp\\ipykernel_6792\\1684946528.py:3: FutureWarning: \n",
      "\n",
      "Passing `palette` without assigning `hue` is deprecated and will be removed in v0.14.0. Assign the `x` variable to `hue` and set `legend=False` for the same effect.\n",
      "\n",
      "  sns.countplot(x='purpose', data=complete_data, palette='dark')\n"
     ]
    },
    {
     "data": {
      "image/png": "[encoded data removed]",
      "text/plain": [
       "<Figure size 1000x600 with 1 Axes>"
      ]
     },
     "metadata": {},
     "output_type": "display_data"
    }
   ],
   "source": [
    "# Bar plot: Loan purpose distribution\n",
    "plt.figure(figsize=(10,6))\n",
    "sns.countplot(x='purpose', data=complete_data, palette='dark')\n",
    "plt.title('Loan Purpose Distribution')\n",
    "plt.xlabel('Purpose of Loans')\n",
    "plt.ylabel('Number of Loans')\n",
    "plt.xticks(rotation=45)\n",
    "plt.show()"
   ]
  },
  {
   "cell_type": "code",
   "execution_count": 47,
   "id": "4dcd70b4-6679-4751-a437-2b16516b74a5",
   "metadata": {},
   "outputs": [
    {
     "data": {
      "image/png": "[encoded data removed]",
      "text/plain": [
       "<Figure size 1000x600 with 1 Axes>"
      ]
     },
     "metadata": {},
     "output_type": "display_data"
    }
   ],
   "source": [
    "# Scatter plot: Debt-to-Income Ratio vs Income\n",
    "plt.figure(figsize=(10,6))\n",
    "sns.scatterplot(x='log.annual.inc', y='dti', data=complete_data)\n",
    "plt.title('Debt-to-Income Ratio vs Annual Income')\n",
    "plt.show()"
   ]
  },
  {
   "cell_type": "code",
   "execution_count": 48,
   "id": "98c18a5b-8814-4564-9419-181376481956",
   "metadata": {},
   "outputs": [
    {
     "data": {
      "image/png": "[encoded data removed]",
      "text/plain": [
       "<Figure size 1000x600 with 1 Axes>"
      ]
     },
     "metadata": {},
     "output_type": "display_data"
    }
   ],
   "source": [
    "# Distribution plot: FICO Scores\n",
    "plt.figure(figsize=(10,6))\n",
    "sns.histplot(complete_data['fico'], bins=30, kde=True)\n",
    "plt.title('Distribution of FICO Scores')\n",
    "plt.show()"
   ]
  },
  {
   "cell_type": "code",
   "execution_count": 49,
   "id": "cef1d5ef-61d0-4b0e-9b60-31a11cb0be2b",
   "metadata": {},
   "outputs": [
    {
     "data": {
      "image/png": "[encoded data removed]",
      "text/plain": [
       "<Figure size 1000x600 with 1 Axes>"
      ]
     },
     "metadata": {},
     "output_type": "display_data"
    }
   ],
   "source": [
    "# Box plot: Interest Rate vs Risk\n",
    "plt.figure(figsize=(10,6))\n",
    "sns.boxplot(x='Risk', y='int.rate', data=complete_data)\n",
    "plt.title('Interest Rate vs Risk')\n",
    "plt.show()"
   ]
  },
  {
   "cell_type": "code",
   "execution_count": null,
   "id": "07c7fffc-f44b-47b0-b418-ff3b87bd7eff",
   "metadata": {},
   "outputs": [],
   "source": []
  },
  {
   "cell_type": "code",
   "execution_count": null,
   "id": "38a32c31-2cdc-49cf-ae74-6f5c5c4faf83",
   "metadata": {},
   "outputs": [],
   "source": []
  },
  {
   "cell_type": "code",
   "execution_count": null,
   "id": "54cc13de-f5fd-4a98-a6c9-3ada919d9754",
   "metadata": {},
   "outputs": [],
   "source": []
  },
  {
   "cell_type": "code",
   "execution_count": null,
   "id": "26671cb8-1702-4106-8e7d-b5867c8a1b45",
   "metadata": {},
   "outputs": [],
   "source": []
  },
  {
   "cell_type": "code",
   "execution_count": null,
   "id": "102917cc-cab8-430c-8a4e-f0805ef89e70",
   "metadata": {},
   "outputs": [],
   "source": []
  },
  {
   "cell_type": "code",
   "execution_count": null,
   "id": "a8be5a28-f660-444b-9293-7c3740dda11c",
   "metadata": {},
   "outputs": [],
   "source": []
  },
  {
   "cell_type": "code",
   "execution_count": null,
   "id": "12aad282-fb96-4af6-b8f5-2c6dbf2da5c9",
   "metadata": {},
   "outputs": [],
   "source": []
  },
  {
   "cell_type": "code",
   "execution_count": null,
   "id": "44f6b6ac-0d31-43d3-9590-8659c8e6ec43",
   "metadata": {},
   "outputs": [],
   "source": []
  },
  {
   "cell_type": "code",
   "execution_count": null,
   "id": "4e5897ac-94ff-410a-a9cf-50d488d3c0d5",
   "metadata": {},
   "outputs": [],
   "source": []
  },
  {
   "cell_type": "code",
   "execution_count": null,
   "id": "b4909d28-c0f6-4ec2-a4ab-704816c46d9b",
   "metadata": {},
   "outputs": [],
   "source": []
  },
  {
   "cell_type": "code",
   "execution_count": null,
   "id": "86f57872-d07e-4b3d-91aa-a31822b06c32",
   "metadata": {},
   "outputs": [],
   "source": []
  },
  {
   "cell_type": "code",
   "execution_count": null,
   "id": "f4d62dff-e291-43d5-8e29-38d63a836946",
   "metadata": {},
   "outputs": [],
   "source": []
  },
  {
   "cell_type": "code",
   "execution_count": null,
   "id": "bf91873a-482f-4e0d-92a2-99b87a3bd3ab",
   "metadata": {},
   "outputs": [],
   "source": []
  },
  {
   "cell_type": "code",
   "execution_count": null,
   "id": "c202737b-f7f1-46f3-b0a7-29acac92e3ef",
   "metadata": {},
   "outputs": [],
   "source": []
  },
  {
   "cell_type": "code",
   "execution_count": null,
   "id": "b0b9ce40-3058-480b-9195-a566f59b791f",
   "metadata": {},
   "outputs": [],
   "source": []
  },
  {
   "cell_type": "code",
   "execution_count": null,
   "id": "b3cabcb9-de27-4e7c-81ed-a72e93d9ac75",
   "metadata": {},
   "outputs": [],
   "source": []
  },
  {
   "cell_type": "code",
   "execution_count": null,
   "id": "e0d7017b-7a17-436f-9be0-356d4c39aade",
   "metadata": {},
   "outputs": [],
   "source": []
  },
  {
   "cell_type": "code",
   "execution_count": null,
   "id": "caabf109-2a50-4c16-9c64-ac7a5f9dbdf5",
   "metadata": {},
   "outputs": [],
   "source": []
  },
  {
   "cell_type": "code",
   "execution_count": null,
   "id": "bfe5d486-9a6a-4550-98bf-08716c4433f2",
   "metadata": {},
   "outputs": [],
   "source": []
  },
  {
   "cell_type": "code",
   "execution_count": null,
   "id": "9394d74e-c3d1-4ac3-a199-9962c7382d63",
   "metadata": {},
   "outputs": [],
   "source": []
  },
  {
   "cell_type": "code",
   "execution_count": null,
   "id": "3468430b-3d6e-4375-9be7-ec6bf352c30f",
   "metadata": {},
   "outputs": [],
   "source": []
  },
  {
   "cell_type": "code",
   "execution_count": null,
   "id": "5f702501-ea57-41d3-9b8e-d2dc72cb0ea0",
   "metadata": {},
   "outputs": [],
   "source": []
  },
  {
   "cell_type": "code",
   "execution_count": null,
   "id": "92a5f422-6ccd-4688-ba66-e63f2213e154",
   "metadata": {},
   "outputs": [],
   "source": []
  },
  {
   "cell_type": "code",
   "execution_count": null,
   "id": "14968d01-4070-4f2b-bdd9-72013445b6f5",
   "metadata": {},
   "outputs": [],
   "source": []
  },
  {
   "cell_type": "code",
   "execution_count": null,
   "id": "8bc9a138-72e1-4294-8755-ab7efca85de1",
   "metadata": {},
   "outputs": [],
   "source": []
  },
  {
   "cell_type": "code",
   "execution_count": null,
   "id": "f45a719b-b6a7-42ee-8989-fd3a193a231a",
   "metadata": {},
   "outputs": [],
   "source": []
  },
  {
   "cell_type": "code",
   "execution_count": null,
   "id": "9fb5fbe5-1fd2-4484-8f02-d4d620f61abd",
   "metadata": {},
   "outputs": [],
   "source": []
  },
  {
   "cell_type": "code",
   "execution_count": null,
   "id": "3614296e-5ec1-4762-991d-96c342f1c1fa",
   "metadata": {},
   "outputs": [],
   "source": []
  },
  {
   "cell_type": "code",
   "execution_count": null,
   "id": "27baf8b0-7720-462d-95b7-6d9359a0d60e",
   "metadata": {},
   "outputs": [],
   "source": []
  },
  {
   "cell_type": "code",
   "execution_count": null,
   "id": "bec62d4d-3fb4-4645-8b92-b86df07129fe",
   "metadata": {},
   "outputs": [],
   "source": []
  },
  {
   "cell_type": "code",
   "execution_count": null,
   "id": "be9f0c79-a97f-4153-ae0e-05983c8eee1a",
   "metadata": {},
   "outputs": [],
   "source": []
  },
  {
   "cell_type": "code",
   "execution_count": null,
   "id": "0860809b-1e33-4151-94ab-31b8d3558225",
   "metadata": {},
   "outputs": [],
   "source": []
  },
  {
   "cell_type": "code",
   "execution_count": null,
   "id": "a04f8de8-b07e-40bd-9e0d-4bd9bc3116fe",
   "metadata": {},
   "outputs": [],
   "source": []
  },
  {
   "cell_type": "code",
   "execution_count": null,
   "id": "3e037cf0-6c5b-446e-b4e8-d63955db15d2",
   "metadata": {},
   "outputs": [],
   "source": []
  },
  {
   "cell_type": "code",
   "execution_count": null,
   "id": "c4d5932b-e9a6-4315-b10b-32640fd2ac53",
   "metadata": {},
   "outputs": [],
   "source": []
  },
  {
   "cell_type": "code",
   "execution_count": null,
   "id": "ba37d043-8e70-4e82-9357-82f6a3ce1197",
   "metadata": {},
   "outputs": [],
   "source": []
  },
  {
   "cell_type": "code",
   "execution_count": null,
   "id": "c8721aeb-6b36-462e-a712-7464e0e1f38a",
   "metadata": {},
   "outputs": [],
   "source": []
  },
  {
   "cell_type": "code",
   "execution_count": null,
   "id": "6ac5ef53-3ebc-45b9-98c5-b297e5f9ba00",
   "metadata": {},
   "outputs": [],
   "source": []
  },
  {
   "cell_type": "code",
   "execution_count": null,
   "id": "e4463330-8e6b-404f-a965-1830a85ffbeb",
   "metadata": {},
   "outputs": [],
   "source": []
  },
  {
   "cell_type": "code",
   "execution_count": null,
   "id": "ee345706-66f6-448a-b7b8-03c868af76c8",
   "metadata": {},
   "outputs": [],
   "source": []
  },
  {
   "cell_type": "code",
   "execution_count": null,
   "id": "5dee3008-0f37-4afb-838f-6f141d0ca905",
   "metadata": {},
   "outputs": [],
   "source": []
  },
  {
   "cell_type": "code",
   "execution_count": null,
   "id": "4df834ab-2570-4f71-ac66-b97f4150ee5a",
   "metadata": {},
   "outputs": [],
   "source": []
  },
  {
   "cell_type": "code",
   "execution_count": null,
   "id": "1899d235-a1f1-4b6a-bd96-727bea1a04e6",
   "metadata": {},
   "outputs": [],
   "source": []
  },
  {
   "cell_type": "code",
   "execution_count": null,
   "id": "832912a8-fe2f-47b7-9be5-e62ec479c170",
   "metadata": {},
   "outputs": [],
   "source": []
  },
  {
   "cell_type": "code",
   "execution_count": null,
   "id": "de0fc13e-7dad-434d-bbd7-6703a0e41e98",
   "metadata": {},
   "outputs": [],
   "source": []
  },
  {
   "cell_type": "code",
   "execution_count": null,
   "id": "436f452f-8bb2-442b-b1d3-96af6b807abd",
   "metadata": {},
   "outputs": [],
   "source": []
  },
  {
   "cell_type": "code",
   "execution_count": null,
   "id": "3dc77e99-e020-4908-abc9-793f66693c72",
   "metadata": {},
   "outputs": [],
   "source": []
  },
  {
   "cell_type": "code",
   "execution_count": null,
   "id": "c8492d34-b99b-43ad-8f76-6acbec91c3f0",
   "metadata": {},
   "outputs": [],
   "source": []
  },
  {
   "cell_type": "code",
   "execution_count": null,
   "id": "57245bcc-e8bd-42e3-89cb-b2de86bfb0d3",
   "metadata": {},
   "outputs": [],
   "source": []
  },
  {
   "cell_type": "code",
   "execution_count": null,
   "id": "3b5c82af-dc2f-437f-93d6-7f985b8e6ae6",
   "metadata": {},
   "outputs": [],
   "source": []
  },
  {
   "cell_type": "code",
   "execution_count": null,
   "id": "0d6b37ac-4039-4b4d-a3ac-6dcd79ed0d73",
   "metadata": {},
   "outputs": [],
   "source": []
  },
  {
   "cell_type": "code",
   "execution_count": null,
   "id": "57e33f5b-f899-4e94-bcb0-c66be68d1a24",
   "metadata": {},
   "outputs": [],
   "source": []
  },
  {
   "cell_type": "code",
   "execution_count": null,
   "id": "85c03299-1e6c-4fdc-9010-8d04d68b8531",
   "metadata": {},
   "outputs": [],
   "source": []
  },
  {
   "cell_type": "code",
   "execution_count": null,
   "id": "0ebb75dd-5960-497a-b4d6-e3fd2f631052",
   "metadata": {},
   "outputs": [],
   "source": []
  },
  {
   "cell_type": "code",
   "execution_count": null,
   "id": "40e5f408-88a1-4c8f-aaca-744dfc849198",
   "metadata": {},
   "outputs": [],
   "source": []
  },
  {
   "cell_type": "code",
   "execution_count": null,
   "id": "7ad1f4a9-b4a0-4890-a0a4-9bc22e250d9f",
   "metadata": {},
   "outputs": [],
   "source": []
  },
  {
   "cell_type": "code",
   "execution_count": null,
   "id": "83ac94f9-353c-4f43-9157-08facbd752d5",
   "metadata": {},
   "outputs": [],
   "source": []
  },
  {
   "cell_type": "code",
   "execution_count": null,
   "id": "aa450125-2e1e-4e7b-9ba8-8f8f238cb691",
   "metadata": {},
   "outputs": [],
   "source": []
  }
 ],
 "metadata": {
  "kernelspec": {
   "display_name": "Python 3 (ipykernel)",
   "language": "python",
   "name": "python3"
  },
  "language_info": {
   "codemirror_mode": {
    "name": "ipython",
    "version": 3
   },
   "file_extension": ".py",
   "mimetype": "text/x-python",
   "name": "python",
   "nbconvert_exporter": "python",
   "pygments_lexer": "ipython3",
   "version": "3.12.3"
  }
 },
 "nbformat": 4,
 "nbformat_minor": 5
}
